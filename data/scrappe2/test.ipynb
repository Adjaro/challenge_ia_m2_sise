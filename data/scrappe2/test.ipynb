{
 "cells": [
  {
   "cell_type": "code",
   "execution_count": 1,
   "metadata": {},
   "outputs": [],
   "source": [
    "from model.classFactory import ScrapingFactory\n",
    "import json\n",
    "from typing import Dict, List\n",
    "import logging"
   ]
  },
  {
   "cell_type": "code",
   "execution_count": 5,
   "metadata": {},
   "outputs": [
    {
     "name": "stdout",
     "output_type": "stream",
     "text": [
      "Scraping France Travail URL: https://candidat.francetravail.fr/offres/recherche/detail/189KKQR\n",
      "Données scrapées : {'title': 'Offre n° 189KKQRDéveloppeur Full Stack .Net  (H/F)', 'company': 'No Company', 'location': 'No Location', 'description': \"Rejoignez une équipe sympathique et dynamique, dans un groupe en forte croissance !\\n\\nPOSTE et MISSION\\n\\nAu sein du pôle «Développement et R&D», vous serez intégré-e à l'équipe chargée du développement de nos Suites logicielles de gestion des risques Qualité, Sécurité, Environnement. A ce titre, vous travaillerez sur la conception et le développement de nos logiciels (algorithmes, IHM, API, persistance, Front End, Back End, etc) :\\n\\n- Intégrez une petite équipe d'ingénieurs, stable, qui travaille en étroite collaboration avec les autres services (notamment métier), selon la méthode Agile (Scrum), sur des projets durables,\\n\\n- A partir de spécifications fonctionnelles, vous concevez et développez les évolutions et nouvelles fonctionnalités de nos applications web en ASP.Net MVC (C#, Javascript, frontEnd) et de notre moteur métier (en C#, C++, backEnd),\\n\\n- Vous préparez avec l'équipe, la prochaine génération de notre application (technologies, langages, frameworks, processus seront à définir). Vos expériences sont des atouts !\\n\\n- Vous contribuez à la veille technologique, à la stratégie de tests, et à la hotline de 2ème niveau (en soutien à l'équipe Hotline)\\n\\n- Travail en équipe, autonomie, rigueur, souplesse et sens du service client sont indispensables\\n\\nNous utilisons actuellement Visual Studio 2022, GIT, Jira, Azure DevOps, N8N (Middleware). Nous nous appuyons sur une base de données objet propriétaire et SQL Server. Nous gérons les évolutions de nos solutions en client lourd, Web hébergé - Saas et responsive.\\n\\nLieu de travail et télétravail à convenir, en France métropolitaine\\n\\nRémunération à convenir (35 à 50 K€ selon parcours). Mutuelle avantageuse, chèques-déjeuner, avantages CSE. Idéalement temps plein. Horaires de bureau, pas d'astreinte. Opportunités de carrières, mobilité à l'International.\", 'url': 'https://candidat.francetravail.fr/offres/recherche/detail/189KKQR'}\n",
      "Offre : {'id': '189LDBQ', 'intitule': 'Développeur / Développeuse informatique (H/F)', 'description': \"Au sein de notre société, vous participerez au développement de nos logiciels ainsi qu'à l'administration de nos serveurs (base de données, sauvegarde, mise à jour, etc.). \\nVous serez amené.e à répondre aux demandes des utilisateurs de nos logiciels et à rédiger des documentations.\\nDans le cadre de votre fonction, vous travaillerez en collaboration avec l'ensemble des services de l'entreprise, vous devez faire preuve de curiosité et de communication pour travailler en synergie avec l'ensemble des équipes pour favoriser la réussite des projets. \", 'dateCreation': '2025-03-12T14:36:04.326Z', 'dateActualisation': '2025-03-12T14:36:04.326Z', 'lieuTravail': {'libelle': '57 - CORNY SUR MOSELLE', 'latitude': 49.035655, 'longitude': 6.068213, 'codePostal': '57680', 'commune': '57153'}, 'romeCode': 'M1805', 'romeLibelle': 'Développeur / Développeuse informatique', 'appellationlibelle': 'Développeur / Développeuse informatique', 'entreprise': {'nom': 'SARL CABINET MELEY STROZYNA GEOM EXPERTS', 'entrepriseAdaptee': False}, 'typeContrat': 'CDI', 'typeContratLibelle': 'CDI', 'natureContrat': 'Contrat travail', 'experienceExige': 'D', 'experienceLibelle': 'Débutant accepté', 'permis': [{'libelle': 'B - Véhicule léger', 'exigence': 'S'}], 'competences': [{'code': '109876', 'libelle': 'C#', 'exigence': 'E'}, {'code': '109882', 'libelle': 'Gestion de bases de données NoSQL', 'exigence': 'E'}, {'code': '113297', 'libelle': 'ASP.NET', 'exigence': 'S'}, {'code': '113799', 'libelle': 'VB.NET', 'exigence': 'E'}, {'code': '300688', 'libelle': 'Application web', 'exigence': 'E'}, {'code': '113317', 'libelle': 'Développer une application en lien avec une base de données', 'exigence': 'E'}, {'code': '300615', 'libelle': 'Gérer les risques de cybersécurité', 'exigence': 'S'}, {'libelle': 'Gestion de bases de données NoSQL', 'exigence': 'E'}, {'libelle': 'Développer une application avec base de données', 'exigence': 'E'}, {'libelle': 'Application WEB', 'exigence': 'E'}], 'salaire': {'libelle': 'Annuel de 24000.00 Euros sur 12 mois', 'complement1': 'Chèque repas'}, 'dureeTravailLibelle': '35H Autre', 'dureeTravailLibelleConverti': 'Temps plein', 'alternance': False, 'contact': {'nom': 'Agence France Travail MONTIGNY LES METZ', 'coordonnees1': '325 RUE DE PONT A MOUSSON             ', 'coordonnees2': '57950 Montigny-lès-Metz', 'coordonnees3': 'Pour postuler, utiliser le lien suivant : https://candidat.francetravail.fr/offres/recherche/detail/189LDBQ'}, 'agence': {'courriel': 'Pour postuler, utiliser le lien suivant : https://candidat.francetravail.fr/offres/recherche/detail/189LDBQ'}, 'nombrePostes': 1, 'accessibleTH': False, 'deplacementCode': '2', 'deplacementLibelle': 'Ponctuels Zone nationale', 'qualificationCode': '7', 'qualificationLibelle': 'Technicien', 'codeNAF': '71.12A', 'secteurActivite': '71', 'secteurActiviteLibelle': 'Activité des géomètres', 'qualitesProfessionnelles': [{'libelle': 'Avoir le sens du service', 'description': 'Capacité à identifier (voire anticiper) les besoins des usagers, clients (internes et externes) et à apporter une réponse adaptée afin de les satisfaire.'}, {'libelle': 'Faire preuve de curiosité', 'description': \"Capacité à aller chercher au-delà de ce qui est donné à voir, à s'ouvrir sur la nouveauté et à investiguer pour comprendre et agir de façon appropriée.\"}, {'libelle': 'Travailler en équipe', 'description': \"Capacité à travailler et à se coordonner avec les autres au sein de l'entreprise pour réaliser les objectifs fixés.\"}], 'origineOffre': {'origine': '1', 'urlOrigine': 'https://candidat.francetravail.fr/offres/recherche/detail/189LDBQ'}, 'offresManqueCandidats': False, 'contexteTravail': {'horaires': ['35H Autre'], 'conditionsExercice': ['Autre']}}\n"
     ]
    }
   ],
   "source": [
    "factory = ScrapingFactory()\n",
    "\n",
    "# Scraping d'une seule URL\n",
    "url = \"https://candidat.francetravail.fr/offres/recherche/detail/189KKQR\"\n",
    "scraped_data = factory.scrap_one(url)\n",
    "if scraped_data:\n",
    "    print(\"Données scrapées :\", scraped_data)\n",
    "\n",
    "# Scraping de plusieurs offres d'emploi\n",
    "keyword = \"développeur\"\n",
    "offers = factory.scrap_many(keyword, location=\"75001\", limit=1)\n",
    "for offer in offers:\n",
    "    print(\"Offre :\", offer)"
   ]
  }
 ],
 "metadata": {
  "kernelspec": {
   "display_name": "challenge_ia",
   "language": "python",
   "name": "python3"
  },
  "language_info": {
   "codemirror_mode": {
    "name": "ipython",
    "version": 3
   },
   "file_extension": ".py",
   "mimetype": "text/x-python",
   "name": "python",
   "nbconvert_exporter": "python",
   "pygments_lexer": "ipython3",
   "version": "3.13.1"
  }
 },
 "nbformat": 4,
 "nbformat_minor": 2
}
